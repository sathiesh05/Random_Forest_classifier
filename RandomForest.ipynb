{
 "cells": [
  {
   "cell_type": "code",
   "execution_count": 1,
   "metadata": {},
   "outputs": [],
   "source": [
    "import pandas as pd\n",
    "from sklearn.ensemble import RandomForestClassifier\n",
    "from sklearn.model_selection import KFold, cross_val_score\n",
    "from sklearn.preprocessing import LabelEncoder\n",
    "import numpy as np\n"
   ]
  },
  {
   "cell_type": "code",
   "execution_count": 3,
   "metadata": {},
   "outputs": [
    {
     "name": "stdout",
     "output_type": "stream",
     "text": [
      "\n",
      "Dataset: wine\n",
      "\n",
      "Dataset: drybean\n",
      "\n",
      "Dataset: raisin\n"
     ]
    }
   ],
   "source": [
    "\n",
    "df1 = pd.read_csv(\"winequality-white.csv\")\n",
    "df2 = pd.read_excel(\"Dry_Bean_Dataset.xlsx\")\n",
    "df3 = pd.read_excel(\"Raisin_Dataset.xlsx\")\n",
    "\n",
    "datasets_name = ['wine', 'drybean', 'raisin']\n",
    "datasets = {\n",
    "    'X': [df1.drop(columns='quality'), df2.drop(columns='Class'), df3.drop(columns='Class')],\n",
    "    'y': [df1['quality'], df2['Class'], df3['Class']]\n",
    "}\n",
    "combinations = [\n",
    "    {'n_estimators': 50, 'criterion': 'gini', 'max_depth': 1, 'min_samples_split': 2, 'min_samples_leaf': 1, 'max_features': 10},\n",
    "    {'n_estimators': 100, 'criterion': 'entropy', 'max_depth': 5, 'min_samples_split': 5, 'min_samples_leaf': 4, 'max_features': 'sqrt'},\n",
    "    {'n_estimators': 200, 'criterion': 'log_loss', 'max_depth': 10, 'min_samples_split': 10, 'min_samples_leaf': 8, 'max_features': 'log2'}\n",
    "]\n",
    "kf = KFold(n_splits=5, shuffle=True, random_state=42)\n",
    "results = []\n",
    "res = {'wine':[],'drybean':[],'raisin':[]}\n",
    "for i, dataset_name in enumerate(datasets_name):\n",
    "    best_score = 0\n",
    "    X = datasets['X'][i]\n",
    "    y = datasets['y'][i]\n",
    "\n",
    "    print(f\"\\nDataset: {dataset_name}\")    \n",
    "    for params in combinations:\n",
    "        model = RandomForestClassifier(**params, random_state=42)\n",
    "        cv_scores = cross_val_score(model, X, y, cv=kf, scoring='accuracy')\n",
    "        mean_score = np.mean(cv_scores)\n",
    "        results.append({\n",
    "            'Dataset': dataset_name,\n",
    "            'n_estimators': params['n_estimators'],\n",
    "            'criterion': params['criterion'],\n",
    "            'max_depth': params['max_depth'],\n",
    "            'min_samples_split': params['min_samples_split'],\n",
    "            'min_samples_leaf': params['min_samples_leaf'],\n",
    "            'max_features': params['max_features'],\n",
    "            'Mean_CV_Accuracy': mean_score\n",
    "        })\n",
    "        res[dataset_name].append(mean_score)"
   ]
  },
  {
   "cell_type": "code",
   "execution_count": 6,
   "metadata": {},
   "outputs": [
    {
     "name": "stdout",
     "output_type": "stream",
     "text": [
      "{'Dataset': 'wine', 'n_estimators': 50, 'criterion': 'gini', 'max_depth': 1, 'min_samples_split': 2, 'min_samples_leaf': 1, 'max_features': 10, 'Mean_CV_Accuracy': 0.47264493131266805}\n",
      "{'Dataset': 'wine', 'n_estimators': 100, 'criterion': 'entropy', 'max_depth': 5, 'min_samples_split': 5, 'min_samples_leaf': 4, 'max_features': 'sqrt', 'Mean_CV_Accuracy': 0.5485991536553334}\n",
      "{'Dataset': 'wine', 'n_estimators': 200, 'criterion': 'log_loss', 'max_depth': 10, 'min_samples_split': 10, 'min_samples_leaf': 8, 'max_features': 'log2', 'Mean_CV_Accuracy': 0.6031079193679515}\n",
      "{'Dataset': 'drybean', 'n_estimators': 50, 'criterion': 'gini', 'max_depth': 1, 'min_samples_split': 2, 'min_samples_leaf': 1, 'max_features': 10, 'Mean_CV_Accuracy': 0.40827357668086084}\n",
      "{'Dataset': 'drybean', 'n_estimators': 100, 'criterion': 'entropy', 'max_depth': 5, 'min_samples_split': 5, 'min_samples_leaf': 4, 'max_features': 'sqrt', 'Mean_CV_Accuracy': 0.8968484375215023}\n",
      "{'Dataset': 'drybean', 'n_estimators': 200, 'criterion': 'log_loss', 'max_depth': 10, 'min_samples_split': 10, 'min_samples_leaf': 8, 'max_features': 'log2', 'Mean_CV_Accuracy': 0.9216810132101891}\n",
      "{'Dataset': 'raisin', 'n_estimators': 50, 'criterion': 'gini', 'max_depth': 1, 'min_samples_split': 2, 'min_samples_leaf': 1, 'max_features': 10, 'Mean_CV_Accuracy': 0.8577777777777775}\n",
      "{'Dataset': 'raisin', 'n_estimators': 100, 'criterion': 'entropy', 'max_depth': 5, 'min_samples_split': 5, 'min_samples_leaf': 4, 'max_features': 'sqrt', 'Mean_CV_Accuracy': 0.8622222222222223}\n",
      "{'Dataset': 'raisin', 'n_estimators': 200, 'criterion': 'log_loss', 'max_depth': 10, 'min_samples_split': 10, 'min_samples_leaf': 8, 'max_features': 'log2', 'Mean_CV_Accuracy': 0.8566666666666667}\n",
      "\n",
      "{'wine': [0.47264493131266805, 0.5485991536553334, 0.6031079193679515], 'drybean': [0.40827357668086084, 0.8968484375215023, 0.9216810132101891], 'raisin': [0.8577777777777775, 0.8622222222222223, 0.8566666666666667]}\n"
     ]
    }
   ],
   "source": [
    "for i in results:\n",
    "    print(i)\n",
    "print()\n",
    "print(res)"
   ]
  }
 ],
 "metadata": {
  "kernelspec": {
   "display_name": "Python 3",
   "language": "python",
   "name": "python3"
  },
  "language_info": {
   "codemirror_mode": {
    "name": "ipython",
    "version": 3
   },
   "file_extension": ".py",
   "mimetype": "text/x-python",
   "name": "python",
   "nbconvert_exporter": "python",
   "pygments_lexer": "ipython3",
   "version": "3.12.5"
  }
 },
 "nbformat": 4,
 "nbformat_minor": 2
}
